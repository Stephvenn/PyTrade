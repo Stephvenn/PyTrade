{
 "cells": [
  {
   "cell_type": "markdown",
   "id": "aea27df8",
   "metadata": {},
   "source": [
    "### Import statements "
   ]
  },
  {
   "cell_type": "code",
   "execution_count": 17,
   "id": "f85f678e",
   "metadata": {},
   "outputs": [],
   "source": [
    "import pandas as pd \n",
    "from sklearn.model_selection import train_test_split"
   ]
  },
  {
   "cell_type": "code",
   "execution_count": 18,
   "id": "cbd757a7",
   "metadata": {},
   "outputs": [],
   "source": [
    "df = pd.read_csv(\"dataFinal.csv\")"
   ]
  },
  {
   "cell_type": "code",
   "execution_count": 19,
   "id": "94f2fb58",
   "metadata": {},
   "outputs": [],
   "source": [
    "x = pd.get_dummies(df.drop([\"Churn\"], axis = 1))"
   ]
  },
  {
   "cell_type": "code",
   "execution_count": 20,
   "id": "327ea27e",
   "metadata": {},
   "outputs": [],
   "source": [
    "y = df[\"Churn\"].apply(lambda x: 1 if x == \"YES\" else 0)"
   ]
  },
  {
   "cell_type": "code",
   "execution_count": 21,
   "id": "0f26d047",
   "metadata": {},
   "outputs": [],
   "source": [
    "x_train, x_test, y_train, y_test = train_test_split(x,y,test_size = .2)"
   ]
  },
  {
   "cell_type": "code",
   "execution_count": 22,
   "id": "6b87a2c1",
   "metadata": {},
   "outputs": [
    {
     "data": {
      "text/html": [
       "<div>\n",
       "<style scoped>\n",
       "    .dataframe tbody tr th:only-of-type {\n",
       "        vertical-align: middle;\n",
       "    }\n",
       "\n",
       "    .dataframe tbody tr th {\n",
       "        vertical-align: top;\n",
       "    }\n",
       "\n",
       "    .dataframe thead th {\n",
       "        text-align: right;\n",
       "    }\n",
       "</style>\n",
       "<table border=\"1\" class=\"dataframe\">\n",
       "  <thead>\n",
       "    <tr style=\"text-align: right;\">\n",
       "      <th></th>\n",
       "      <th>Difference</th>\n",
       "      <th>Average rate of return</th>\n",
       "      <th>Symbol_A</th>\n",
       "      <th>Symbol_AA</th>\n",
       "      <th>Symbol_AAC</th>\n",
       "      <th>Symbol_AACG</th>\n",
       "      <th>Symbol_AACI</th>\n",
       "      <th>Symbol_AADI</th>\n",
       "      <th>Symbol_AAIC</th>\n",
       "      <th>Symbol_AAL</th>\n",
       "      <th>...</th>\n",
       "      <th>Stock past Price_98.97</th>\n",
       "      <th>Stock past Price_99.05</th>\n",
       "      <th>Stock past Price_99.09</th>\n",
       "      <th>Stock past Price_99.20</th>\n",
       "      <th>Stock past Price_99.32</th>\n",
       "      <th>Stock past Price_99.46</th>\n",
       "      <th>Stock past Price_99.49</th>\n",
       "      <th>Stock past Price_99.77</th>\n",
       "      <th>Stock past Price_99.81</th>\n",
       "      <th>Unnamed: 35_</th>\n",
       "    </tr>\n",
       "  </thead>\n",
       "  <tbody>\n",
       "    <tr>\n",
       "      <th>4275</th>\n",
       "      <td>0.14</td>\n",
       "      <td>1.262857</td>\n",
       "      <td>0</td>\n",
       "      <td>0</td>\n",
       "      <td>0</td>\n",
       "      <td>0</td>\n",
       "      <td>0</td>\n",
       "      <td>0</td>\n",
       "      <td>0</td>\n",
       "      <td>0</td>\n",
       "      <td>...</td>\n",
       "      <td>0</td>\n",
       "      <td>0</td>\n",
       "      <td>0</td>\n",
       "      <td>0</td>\n",
       "      <td>0</td>\n",
       "      <td>0</td>\n",
       "      <td>0</td>\n",
       "      <td>0</td>\n",
       "      <td>0</td>\n",
       "      <td>0</td>\n",
       "    </tr>\n",
       "    <tr>\n",
       "      <th>4424</th>\n",
       "      <td>-2.64</td>\n",
       "      <td>-16.032857</td>\n",
       "      <td>0</td>\n",
       "      <td>0</td>\n",
       "      <td>0</td>\n",
       "      <td>0</td>\n",
       "      <td>0</td>\n",
       "      <td>0</td>\n",
       "      <td>0</td>\n",
       "      <td>0</td>\n",
       "      <td>...</td>\n",
       "      <td>0</td>\n",
       "      <td>0</td>\n",
       "      <td>0</td>\n",
       "      <td>0</td>\n",
       "      <td>0</td>\n",
       "      <td>0</td>\n",
       "      <td>0</td>\n",
       "      <td>0</td>\n",
       "      <td>0</td>\n",
       "      <td>0</td>\n",
       "    </tr>\n",
       "    <tr>\n",
       "      <th>2183</th>\n",
       "      <td>7.50</td>\n",
       "      <td>9.404286</td>\n",
       "      <td>0</td>\n",
       "      <td>0</td>\n",
       "      <td>0</td>\n",
       "      <td>0</td>\n",
       "      <td>0</td>\n",
       "      <td>0</td>\n",
       "      <td>0</td>\n",
       "      <td>0</td>\n",
       "      <td>...</td>\n",
       "      <td>0</td>\n",
       "      <td>0</td>\n",
       "      <td>0</td>\n",
       "      <td>0</td>\n",
       "      <td>0</td>\n",
       "      <td>0</td>\n",
       "      <td>0</td>\n",
       "      <td>0</td>\n",
       "      <td>0</td>\n",
       "      <td>0</td>\n",
       "    </tr>\n",
       "    <tr>\n",
       "      <th>4589</th>\n",
       "      <td>-1.30</td>\n",
       "      <td>11.160000</td>\n",
       "      <td>0</td>\n",
       "      <td>0</td>\n",
       "      <td>0</td>\n",
       "      <td>0</td>\n",
       "      <td>0</td>\n",
       "      <td>0</td>\n",
       "      <td>0</td>\n",
       "      <td>0</td>\n",
       "      <td>...</td>\n",
       "      <td>0</td>\n",
       "      <td>0</td>\n",
       "      <td>0</td>\n",
       "      <td>0</td>\n",
       "      <td>0</td>\n",
       "      <td>0</td>\n",
       "      <td>0</td>\n",
       "      <td>0</td>\n",
       "      <td>0</td>\n",
       "      <td>0</td>\n",
       "    </tr>\n",
       "    <tr>\n",
       "      <th>5567</th>\n",
       "      <td>1.37</td>\n",
       "      <td>-2.818571</td>\n",
       "      <td>0</td>\n",
       "      <td>0</td>\n",
       "      <td>0</td>\n",
       "      <td>0</td>\n",
       "      <td>0</td>\n",
       "      <td>0</td>\n",
       "      <td>0</td>\n",
       "      <td>0</td>\n",
       "      <td>...</td>\n",
       "      <td>0</td>\n",
       "      <td>0</td>\n",
       "      <td>0</td>\n",
       "      <td>0</td>\n",
       "      <td>0</td>\n",
       "      <td>0</td>\n",
       "      <td>0</td>\n",
       "      <td>0</td>\n",
       "      <td>0</td>\n",
       "      <td>0</td>\n",
       "    </tr>\n",
       "  </tbody>\n",
       "</table>\n",
       "<p>5 rows × 95626 columns</p>\n",
       "</div>"
      ],
      "text/plain": [
       "      Difference  Average rate of return  Symbol_A  Symbol_AA  Symbol_AAC  \\\n",
       "4275        0.14                1.262857         0          0           0   \n",
       "4424       -2.64              -16.032857         0          0           0   \n",
       "2183        7.50                9.404286         0          0           0   \n",
       "4589       -1.30               11.160000         0          0           0   \n",
       "5567        1.37               -2.818571         0          0           0   \n",
       "\n",
       "      Symbol_AACG  Symbol_AACI  Symbol_AADI  Symbol_AAIC  Symbol_AAL  ...  \\\n",
       "4275            0            0            0            0           0  ...   \n",
       "4424            0            0            0            0           0  ...   \n",
       "2183            0            0            0            0           0  ...   \n",
       "4589            0            0            0            0           0  ...   \n",
       "5567            0            0            0            0           0  ...   \n",
       "\n",
       "      Stock past Price_98.97  Stock past Price_99.05  Stock past Price_99.09  \\\n",
       "4275                       0                       0                       0   \n",
       "4424                       0                       0                       0   \n",
       "2183                       0                       0                       0   \n",
       "4589                       0                       0                       0   \n",
       "5567                       0                       0                       0   \n",
       "\n",
       "      Stock past Price_99.20  Stock past Price_99.32  Stock past Price_99.46  \\\n",
       "4275                       0                       0                       0   \n",
       "4424                       0                       0                       0   \n",
       "2183                       0                       0                       0   \n",
       "4589                       0                       0                       0   \n",
       "5567                       0                       0                       0   \n",
       "\n",
       "      Stock past Price_99.49  Stock past Price_99.77  Stock past Price_99.81  \\\n",
       "4275                       0                       0                       0   \n",
       "4424                       0                       0                       0   \n",
       "2183                       0                       0                       0   \n",
       "4589                       0                       0                       0   \n",
       "5567                       0                       0                       0   \n",
       "\n",
       "      Unnamed: 35_   \n",
       "4275              0  \n",
       "4424              0  \n",
       "2183              0  \n",
       "4589              0  \n",
       "5567              0  \n",
       "\n",
       "[5 rows x 95626 columns]"
      ]
     },
     "execution_count": 22,
     "metadata": {},
     "output_type": "execute_result"
    }
   ],
   "source": [
    "x_train.head()"
   ]
  },
  {
   "cell_type": "code",
   "execution_count": 23,
   "id": "718dac4c",
   "metadata": {},
   "outputs": [
    {
     "data": {
      "text/plain": [
       "4275    0\n",
       "4424    0\n",
       "2183    0\n",
       "4589    0\n",
       "5567    0\n",
       "Name: Churn, dtype: int64"
      ]
     },
     "execution_count": 23,
     "metadata": {},
     "output_type": "execute_result"
    }
   ],
   "source": [
    "y_train.head()"
   ]
  },
  {
   "cell_type": "markdown",
   "id": "9d02bcf0",
   "metadata": {},
   "source": [
    "### Import Dependencies"
   ]
  },
  {
   "cell_type": "code",
   "execution_count": 24,
   "id": "04f42ffa",
   "metadata": {},
   "outputs": [],
   "source": [
    "from tensorflow.keras.models import Sequential, load_model\n",
    "from tensorflow.keras.layers import Dense \n",
    "from sklearn.metrics import accuracy_score"
   ]
  },
  {
   "cell_type": "markdown",
   "id": "0d358a3b",
   "metadata": {},
   "source": [
    "### Build and Compile"
   ]
  },
  {
   "cell_type": "code",
   "execution_count": 25,
   "id": "299b196f",
   "metadata": {},
   "outputs": [],
   "source": [
    "model = Sequential()\n",
    "model.add(Dense(units = 32, activation = \"relu\", input_dim = len(x_train.columns)))\n",
    "model.add(Dense(units = 64, activation = \"relu\"))\n",
    "model.add(Dense(units = 1, activation = \"sigmoid\"))"
   ]
  },
  {
   "cell_type": "code",
   "execution_count": 26,
   "id": "7bbccea0",
   "metadata": {},
   "outputs": [],
   "source": [
    "model.compile(loss = \"binary_crossentropy\", optimizer = \"sgd\", metrics = \"accuracy\")"
   ]
  },
  {
   "cell_type": "markdown",
   "id": "8d9061a4",
   "metadata": {},
   "source": [
    "### Fit and Predict"
   ]
  },
  {
   "cell_type": "code",
   "execution_count": 27,
   "id": "0df5e096",
   "metadata": {},
   "outputs": [
    {
     "name": "stdout",
     "output_type": "stream",
     "text": [
      "Epoch 1/20\n",
      "153/153 [==============================] - 3s 17ms/step - loss: nan - accuracy: 0.8260\n",
      "Epoch 2/20\n",
      "153/153 [==============================] - 3s 17ms/step - loss: nan - accuracy: 0.8334\n",
      "Epoch 3/20\n",
      "153/153 [==============================] - 3s 17ms/step - loss: nan - accuracy: 0.8334\n",
      "Epoch 4/20\n",
      "153/153 [==============================] - 3s 17ms/step - loss: nan - accuracy: 0.8334\n",
      "Epoch 5/20\n",
      "153/153 [==============================] - 3s 17ms/step - loss: nan - accuracy: 0.8334\n",
      "Epoch 6/20\n",
      "153/153 [==============================] - 3s 18ms/step - loss: nan - accuracy: 0.8334\n",
      "Epoch 7/20\n",
      "153/153 [==============================] - 3s 17ms/step - loss: nan - accuracy: 0.8334\n",
      "Epoch 8/20\n",
      "153/153 [==============================] - 2s 16ms/step - loss: nan - accuracy: 0.8334\n",
      "Epoch 9/20\n",
      "153/153 [==============================] - 3s 19ms/step - loss: nan - accuracy: 0.8334\n",
      "Epoch 10/20\n",
      "153/153 [==============================] - 3s 19ms/step - loss: nan - accuracy: 0.8334\n",
      "Epoch 11/20\n",
      "153/153 [==============================] - 3s 17ms/step - loss: nan - accuracy: 0.8334\n",
      "Epoch 12/20\n",
      "153/153 [==============================] - 3s 17ms/step - loss: nan - accuracy: 0.8334\n",
      "Epoch 13/20\n",
      "153/153 [==============================] - 3s 17ms/step - loss: nan - accuracy: 0.8334\n",
      "Epoch 14/20\n",
      "153/153 [==============================] - 3s 17ms/step - loss: nan - accuracy: 0.8334\n",
      "Epoch 15/20\n",
      "153/153 [==============================] - 3s 18ms/step - loss: nan - accuracy: 0.8334\n",
      "Epoch 16/20\n",
      "153/153 [==============================] - 3s 17ms/step - loss: nan - accuracy: 0.8334\n",
      "Epoch 17/20\n",
      "153/153 [==============================] - 3s 17ms/step - loss: nan - accuracy: 0.8334\n",
      "Epoch 18/20\n",
      "153/153 [==============================] - 3s 17ms/step - loss: nan - accuracy: 0.8334\n",
      "Epoch 19/20\n",
      "153/153 [==============================] - 3s 18ms/step - loss: nan - accuracy: 0.8334\n",
      "Epoch 20/20\n",
      "153/153 [==============================] - 3s 18ms/step - loss: nan - accuracy: 0.8334\n"
     ]
    },
    {
     "data": {
      "text/plain": [
       "<keras.callbacks.History at 0x7f7b081df3d0>"
      ]
     },
     "execution_count": 27,
     "metadata": {},
     "output_type": "execute_result"
    }
   ],
   "source": [
    "model.fit(x_train, y_train, epochs = 20, batch_size = 32)"
   ]
  },
  {
   "cell_type": "code",
   "execution_count": 28,
   "id": "a0c93888",
   "metadata": {},
   "outputs": [
    {
     "name": "stdout",
     "output_type": "stream",
     "text": [
      "39/39 [==============================] - 0s 8ms/step\n"
     ]
    }
   ],
   "source": [
    "y_hat = model.predict(x_test)\n",
    "y_hat = [0 if val < 0.5 else 1 for val in y_hat]"
   ]
  },
  {
   "cell_type": "markdown",
   "id": "c65bc7e0",
   "metadata": {},
   "source": [
    "### Saving the model"
   ]
  },
  {
   "cell_type": "code",
   "execution_count": 29,
   "id": "4699bf98",
   "metadata": {},
   "outputs": [
    {
     "name": "stderr",
     "output_type": "stream",
     "text": [
      "WARNING:absl:Found untraced functions such as _update_step_xla while saving (showing 1 of 1). These functions will not be directly callable after loading.\n"
     ]
    },
    {
     "name": "stdout",
     "output_type": "stream",
     "text": [
      "INFO:tensorflow:Assets written to: financialModel/assets\n"
     ]
    },
    {
     "name": "stderr",
     "output_type": "stream",
     "text": [
      "INFO:tensorflow:Assets written to: financialModel/assets\n"
     ]
    }
   ],
   "source": [
    "model.save(\"financialModel\")"
   ]
  },
  {
   "cell_type": "code",
   "execution_count": null,
   "id": "ffc58309",
   "metadata": {},
   "outputs": [],
   "source": [
    "model = load_model(\"fi\")"
   ]
  }
 ],
 "metadata": {
  "kernelspec": {
   "display_name": "Python 3 (ipykernel)",
   "language": "python",
   "name": "python3"
  },
  "language_info": {
   "codemirror_mode": {
    "name": "ipython",
    "version": 3
   },
   "file_extension": ".py",
   "mimetype": "text/x-python",
   "name": "python",
   "nbconvert_exporter": "python",
   "pygments_lexer": "ipython3",
   "version": "3.9.12"
  }
 },
 "nbformat": 4,
 "nbformat_minor": 5
}
